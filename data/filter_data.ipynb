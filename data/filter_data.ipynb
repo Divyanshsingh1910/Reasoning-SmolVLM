{
 "cells": [
  {
   "cell_type": "markdown",
   "metadata": {},
   "source": [
    "### Script to filter random samples from ChartVQA dataset\n",
    "\n",
    "Usage: Provide NUM_SAMPLES to filter\n",
    "\n",
    "\n",
    "Output: filtere_images folder containing the images and filtered_data.json containing queries and labels"
   ]
  },
  {
   "cell_type": "code",
   "execution_count": null,
   "metadata": {},
   "outputs": [],
   "source": [
    "import json\n",
    "import random\n",
    "import os\n",
    "import shutil\n",
    "\n",
    "NUM_SAMPLES = 5000\n",
    "\n",
    "with open('./train/train_human.json', 'r') as f:\n",
    "    content = json.load(f)\n",
    "samples = random.sample(content, NUM_SAMPLES)\n",
    "\n",
    "os.makedirs('filtered_images', exist_ok=True)\n",
    "\n",
    "for item in samples:\n",
    "    img_path = f\"./train/png/{item['imgname']}\"\n",
    "    if os.path.exists(img_path):\n",
    "        shutil.copy(img_path, 'filtered_images')\n",
    "    else:\n",
    "        print(f\"Image not found: {img_path}\")\n",
    "\n",
    "with open(\"filtered_data.json\", \"w\") as f:\n",
    "    json.dump(samples, f)"
   ]
  }
 ],
 "metadata": {
  "kernelspec": {
   "display_name": "Python 3",
   "language": "python",
   "name": "python3"
  },
  "language_info": {
   "codemirror_mode": {
    "name": "ipython",
    "version": 3
   },
   "file_extension": ".py",
   "mimetype": "text/x-python",
   "name": "python",
   "nbconvert_exporter": "python",
   "pygments_lexer": "ipython3",
   "version": "3.10.12"
  }
 },
 "nbformat": 4,
 "nbformat_minor": 2
}
